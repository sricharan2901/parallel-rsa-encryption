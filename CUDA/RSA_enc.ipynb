{
  "nbformat": 4,
  "nbformat_minor": 0,
  "metadata": {
    "colab": {
      "provenance": [],
      "gpuType": "T4"
    },
    "kernelspec": {
      "name": "python3",
      "display_name": "Python 3"
    },
    "language_info": {
      "name": "python"
    },
    "accelerator": "GPU"
  },
  "cells": [
    {
      "cell_type": "code",
      "source": [
        "%%writefile rsa_cuda.cu\n",
        "\n",
        "#include <stdio.h>\n",
        "#include <stdlib.h>\n",
        "#include <cuda_runtime.h>\n",
        "#include <sys/time.h>\n",
        "\n",
        "#define MODULUS 3233 // Example modulus for RSA (should be a product of two primes)\n",
        "#define PUB_EXP 17   // Example public exponent for RSA\n",
        "#define PRIV_EXP 413 // Example private exponent for RSA\n",
        "\n",
        "__device__ unsigned long long mod_exp_cuda(unsigned long long base, unsigned long long exp, unsigned long long mod) {\n",
        "    unsigned long long result = 1;\n",
        "    base = base % mod;\n",
        "    while (exp > 0) {\n",
        "        if (exp % 2 == 1) {\n",
        "            result = (result * base) % mod;\n",
        "        }\n",
        "        exp = exp >> 1;\n",
        "        base = (base * base) % mod;\n",
        "    }\n",
        "    return result;\n",
        "}\n",
        "\n",
        "__global__ void rsa_encrypt_kernel(unsigned char *input, unsigned long long *output, int len, unsigned long long exp, unsigned long long mod) {\n",
        "    int idx = blockIdx.x * blockDim.x + threadIdx.x;\n",
        "    if (idx < len) {\n",
        "        output[idx] = mod_exp_cuda((unsigned long long)input[idx], exp, mod);\n",
        "    }\n",
        "}\n",
        "\n",
        "__global__ void rsa_decrypt_kernel(unsigned long long *input, unsigned char *output, int len, unsigned long long exp, unsigned long long mod) {\n",
        "    int idx = blockIdx.x * blockDim.x + threadIdx.x;\n",
        "    if (idx < len) {\n",
        "        output[idx] = (unsigned char)mod_exp_cuda(input[idx], exp, mod);\n",
        "    }\n",
        "}\n",
        "\n",
        "void rsa_encrypt(unsigned char *input, unsigned long long *output, int len) {\n",
        "    unsigned char *d_input;\n",
        "    unsigned long long *d_output;\n",
        "\n",
        "    cudaMalloc((void **)&d_input, len * sizeof(unsigned char));\n",
        "    cudaMalloc((void **)&d_output, len * sizeof(unsigned long long));\n",
        "\n",
        "    cudaMemcpy(d_input, input, len * sizeof(unsigned char), cudaMemcpyHostToDevice);\n",
        "\n",
        "    int blockSize = 256;\n",
        "    int gridSize = (len + blockSize - 1) / blockSize;\n",
        "    rsa_encrypt_kernel<<<gridSize, blockSize>>>(d_input, d_output, len, PUB_EXP, MODULUS);\n",
        "\n",
        "    cudaMemcpy(output, d_output, len * sizeof(unsigned long long), cudaMemcpyDeviceToHost);\n",
        "\n",
        "    cudaFree(d_input);\n",
        "    cudaFree(d_output);\n",
        "}\n",
        "\n",
        "void rsa_decrypt(unsigned long long *input, unsigned char *output, int len) {\n",
        "    unsigned long long *d_input;\n",
        "    unsigned char *d_output;\n",
        "\n",
        "    cudaMalloc((void **)&d_input, len * sizeof(unsigned long long));\n",
        "    cudaMalloc((void **)&d_output, len * sizeof(unsigned char));\n",
        "\n",
        "    cudaMemcpy(d_input, input, len * sizeof(unsigned long long), cudaMemcpyHostToDevice);\n",
        "\n",
        "    int blockSize = 256;\n",
        "    int gridSize = (len + blockSize - 1) / blockSize;\n",
        "    rsa_decrypt_kernel<<<gridSize, blockSize>>>(d_input, d_output, len, PRIV_EXP, MODULUS);\n",
        "\n",
        "    cudaMemcpy(output, d_output, len * sizeof(unsigned char), cudaMemcpyDeviceToHost);\n",
        "\n",
        "    cudaFree(d_input);\n",
        "    cudaFree(d_output);\n",
        "}\n",
        "\n",
        "int main() {\n",
        "    FILE *file = fopen(\"input.txt\", \"rb\");\n",
        "    if (!file) {\n",
        "        fprintf(stderr, \"Failed to open input file\\n\");\n",
        "        return 1;\n",
        "    }\n",
        "\n",
        "    fseek(file, 0, SEEK_END);\n",
        "    int fileSize = ftell(file);\n",
        "    fseek(file, 0, SEEK_SET);\n",
        "\n",
        "    unsigned char *input = (unsigned char *)malloc(fileSize);\n",
        "    unsigned long long *encrypted = (unsigned long long *)malloc(fileSize * sizeof(unsigned long long));\n",
        "    unsigned char *decrypted = (unsigned char *)malloc(fileSize);\n",
        "\n",
        "    fread(input, 1, fileSize, file);\n",
        "    fclose(file);\n",
        "\n",
        "    struct timeval start, end;\n",
        "\n",
        "    // Encryption\n",
        "    gettimeofday(&start, NULL);\n",
        "    rsa_encrypt(input, encrypted, fileSize);\n",
        "    gettimeofday(&end, NULL);\n",
        "    printf(\"Encryption completed.\\n\");\n",
        "    printf(\"Public Key: %llu\\n\", PUB_EXP);\n",
        "    printf(\"Modulus: %llu\\n\", MODULUS);\n",
        "    printf(\"Encryption Time: %.6f seconds\\n\", ((end.tv_sec - start.tv_sec) * 1000000 + end.tv_usec - start.tv_usec) / 1000000.0);\n",
        "\n",
        "    // Decryption\n",
        "    gettimeofday(&start, NULL);\n",
        "    rsa_decrypt(encrypted, decrypted, fileSize);\n",
        "    gettimeofday(&end, NULL);\n",
        "    printf(\"Decryption completed.\\n\");\n",
        "    printf(\"Private Key: %llu\\n\", PRIV_EXP);\n",
        "    printf(\"Modulus: %llu\\n\", MODULUS);\n",
        "    printf(\"Decryption Time: %.6f seconds\\n\", ((end.tv_sec - start.tv_sec) * 1000000 + end.tv_usec - start.tv_usec) / 1000000.0);\n",
        "\n",
        "    // Save decrypted output to file\n",
        "    file = fopen(\"decrypted_output.txt\", \"wb\");\n",
        "    fwrite(decrypted, 1, fileSize, file);\n",
        "    fclose(file);\n",
        "\n",
        "    free(input);\n",
        "    free(encrypted);\n",
        "    free(decrypted);\n",
        "\n",
        "    return 0;\n",
        "}\n"
      ],
      "metadata": {
        "colab": {
          "base_uri": "https://localhost:8080/"
        },
        "id": "f01wV6_1sv-A",
        "outputId": "55724039-b8db-4ea6-f5e4-dd38041e556d"
      },
      "execution_count": 2,
      "outputs": [
        {
          "output_type": "stream",
          "name": "stdout",
          "text": [
            "Writing rsa_cuda.cu\n"
          ]
        }
      ]
    },
    {
      "cell_type": "code",
      "source": [
        "# Create an input file with sample content\n",
        "with open(\"input.txt\", \"w\") as file:\n",
        "    file.write(\"This is a test file for RSA encryption and decryption using CUDA.\")"
      ],
      "metadata": {
        "id": "KDy1WTNes7qm"
      },
      "execution_count": 4,
      "outputs": []
    },
    {
      "cell_type": "code",
      "execution_count": 5,
      "metadata": {
        "colab": {
          "base_uri": "https://localhost:8080/"
        },
        "id": "_M2v9sPisVqQ",
        "outputId": "7af524d2-dbec-4b20-cb53-644a9bf6a099"
      },
      "outputs": [
        {
          "output_type": "stream",
          "name": "stdout",
          "text": [
            "\u001b[01m\u001b[Krsa_cuda.cu:\u001b[m\u001b[K In function ‘\u001b[01m\u001b[Kint main()\u001b[m\u001b[K’:\n",
            "\u001b[01m\u001b[Krsa_cuda.cu:101:8:\u001b[m\u001b[K \u001b[01;35m\u001b[Kwarning: \u001b[m\u001b[Kformat ‘\u001b[01m\u001b[K%llu\u001b[m\u001b[K’ expects argument of type ‘\u001b[01m\u001b[Klong long unsigned int\u001b[m\u001b[K’, but argument 2 has type ‘\u001b[01m\u001b[Kint\u001b[m\u001b[K’ [\u001b[01;35m\u001b[K\u001b]8;;https://gcc.gnu.org/onlinedocs/gcc/Warning-Options.html#index-Wformat=\u0007-Wformat=\u001b]8;;\u0007\u001b[m\u001b[K]\n",
            "  101 |     pri\u001b[01;35m\u001b[Kntf(\"Public Key: %ll\u001b[m\u001b[Ku\\\u001b[32m\u001b[Kn\"\u001b[m\u001b[K, PUB_EXP);\n",
            "      |        \u001b[01;35m\u001b[K^~~~~~~~~~~~~~~~~~~~\u001b[m\u001b[K  \u001b[32m\u001b[K~~\u001b[m\u001b[K\n",
            "      |                              \u001b[32m\u001b[K|\u001b[m\u001b[K\n",
            "      |                              \u001b[32m\u001b[Kint\u001b[m\u001b[K\n",
            "\u001b[01m\u001b[Krsa_cuda.cu:102:8:\u001b[m\u001b[K \u001b[01;35m\u001b[Kwarning: \u001b[m\u001b[Kformat ‘\u001b[01m\u001b[K%llu\u001b[m\u001b[K’ expects argument of type ‘\u001b[01m\u001b[Klong long unsigned int\u001b[m\u001b[K’, but argument 2 has type ‘\u001b[01m\u001b[Kint\u001b[m\u001b[K’ [\u001b[01;35m\u001b[K\u001b]8;;https://gcc.gnu.org/onlinedocs/gcc/Warning-Options.html#index-Wformat=\u0007-Wformat=\u001b]8;;\u0007\u001b[m\u001b[K]\n",
            "  102 |     pri\u001b[01;35m\u001b[Kntf(\"Modulus: %ll\u001b[m\u001b[Ku\\\u001b[32m\u001b[Kn\", \u001b[m\u001b[KMODULUS);\n",
            "      |        \u001b[01;35m\u001b[K^~~~~~~~~~~~~~~~~\u001b[m\u001b[K  \u001b[32m\u001b[K~~~~\u001b[m\u001b[K\n",
            "      |                           \u001b[32m\u001b[K|\u001b[m\u001b[K\n",
            "      |                           \u001b[32m\u001b[Kint\u001b[m\u001b[K\n",
            "\u001b[01m\u001b[Krsa_cuda.cu:110:8:\u001b[m\u001b[K \u001b[01;35m\u001b[Kwarning: \u001b[m\u001b[Kformat ‘\u001b[01m\u001b[K%llu\u001b[m\u001b[K’ expects argument of type ‘\u001b[01m\u001b[Klong long unsigned int\u001b[m\u001b[K’, but argument 2 has type ‘\u001b[01m\u001b[Kint\u001b[m\u001b[K’ [\u001b[01;35m\u001b[K\u001b]8;;https://gcc.gnu.org/onlinedocs/gcc/Warning-Options.html#index-Wformat=\u0007-Wformat=\u001b]8;;\u0007\u001b[m\u001b[K]\n",
            "  110 |     pri\u001b[01;35m\u001b[Kntf(\"Private Key: %ll\u001b[m\u001b[Ku\\\u001b[32m\u001b[Kn\",\u001b[m\u001b[K PRIV_EXP);\n",
            "      |        \u001b[01;35m\u001b[K^~~~~~~~~~~~~~~~~~~~~\u001b[m\u001b[K  \u001b[32m\u001b[K~~~\u001b[m\u001b[K\n",
            "      |                               \u001b[32m\u001b[K|\u001b[m\u001b[K\n",
            "      |                               \u001b[32m\u001b[Kint\u001b[m\u001b[K\n",
            "\u001b[01m\u001b[Krsa_cuda.cu:111:8:\u001b[m\u001b[K \u001b[01;35m\u001b[Kwarning: \u001b[m\u001b[Kformat ‘\u001b[01m\u001b[K%llu\u001b[m\u001b[K’ expects argument of type ‘\u001b[01m\u001b[Klong long unsigned int\u001b[m\u001b[K’, but argument 2 has type ‘\u001b[01m\u001b[Kint\u001b[m\u001b[K’ [\u001b[01;35m\u001b[K\u001b]8;;https://gcc.gnu.org/onlinedocs/gcc/Warning-Options.html#index-Wformat=\u0007-Wformat=\u001b]8;;\u0007\u001b[m\u001b[K]\n",
            "  111 |     pri\u001b[01;35m\u001b[Kntf(\"Modulus: %ll\u001b[m\u001b[Ku\\\u001b[32m\u001b[Kn\", \u001b[m\u001b[KMODULUS);\n",
            "      |        \u001b[01;35m\u001b[K^~~~~~~~~~~~~~~~~\u001b[m\u001b[K  \u001b[32m\u001b[K~~~~\u001b[m\u001b[K\n",
            "      |                           \u001b[32m\u001b[K|\u001b[m\u001b[K\n",
            "      |                           \u001b[32m\u001b[Kint\u001b[m\u001b[K\n",
            "Encryption completed.\n",
            "Public Key: 17\n",
            "Modulus: 3233\n",
            "Encryption Time: 0.465801 seconds\n",
            "Decryption completed.\n",
            "Private Key: 413\n",
            "Modulus: 3233\n",
            "Decryption Time: 0.000342 seconds\n"
          ]
        }
      ],
      "source": [
        "!nvcc rsa_cuda.cu -o rsa_cuda\n",
        "!./rsa_cuda"
      ]
    }
  ]
}